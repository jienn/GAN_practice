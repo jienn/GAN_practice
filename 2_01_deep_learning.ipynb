{
  "nbformat": 4,
  "nbformat_minor": 0,
  "metadata": {
    "colab": {
      "name": "2_01_deep_learning.ipynb",
      "provenance": [],
      "collapsed_sections": [],
      "authorship_tag": "ABX9TyOVBtNdYZYrBCvYi/Jn7N3b",
      "include_colab_link": true
    },
    "kernelspec": {
      "name": "python3",
      "display_name": "Python 3"
    },
    "accelerator": "GPU"
  },
  "cells": [
    {
      "cell_type": "markdown",
      "metadata": {
        "id": "view-in-github",
        "colab_type": "text"
      },
      "source": [
        "<a href=\"https://colab.research.google.com/github/jienn/GAN_practice/blob/master/2_01_deep_learning.ipynb\" target=\"_parent\"><img src=\"https://colab.research.google.com/assets/colab-badge.svg\" alt=\"Open In Colab\"/></a>"
      ]
    },
    {
      "cell_type": "markdown",
      "metadata": {
        "id": "PGQWttb22CC1",
        "colab_type": "text"
      },
      "source": [
        "# **2.3.1 data_load**"
      ]
    },
    {
      "cell_type": "code",
      "metadata": {
        "id": "cUh0FhaE-05L",
        "colab_type": "code",
        "outputId": "009969be-fa00-4258-dfad-2247f59bf7f7",
        "colab": {
          "base_uri": "https://localhost:8080/",
          "height": 82
        }
      },
      "source": [
        "import numpy as np\n",
        "from keras.utils import to_categorical\n",
        "from keras.datasets import cifar10"
      ],
      "execution_count": 1,
      "outputs": [
        {
          "output_type": "stream",
          "text": [
            "Using TensorFlow backend.\n"
          ],
          "name": "stderr"
        },
        {
          "output_type": "display_data",
          "data": {
            "text/html": [
              "<p style=\"color: red;\">\n",
              "The default version of TensorFlow in Colab will soon switch to TensorFlow 2.x.<br>\n",
              "We recommend you <a href=\"https://www.tensorflow.org/guide/migrate\" target=\"_blank\">upgrade</a> now \n",
              "or ensure your notebook will continue to use TensorFlow 1.x via the <code>%tensorflow_version 1.x</code> magic:\n",
              "<a href=\"https://colab.research.google.com/notebooks/tensorflow_version.ipynb\" target=\"_blank\">more info</a>.</p>\n"
            ],
            "text/plain": [
              "<IPython.core.display.HTML object>"
            ]
          },
          "metadata": {
            "tags": []
          }
        }
      ]
    },
    {
      "cell_type": "code",
      "metadata": {
        "id": "p3WjUiTl_PqO",
        "colab_type": "code",
        "outputId": "a755703e-31ba-4344-b4ea-2e44fcd77f05",
        "colab": {
          "base_uri": "https://localhost:8080/",
          "height": 53
        }
      },
      "source": [
        "(x_train, y_train),(x_test,y_test) = cifar10.load_data()"
      ],
      "execution_count": 2,
      "outputs": [
        {
          "output_type": "stream",
          "text": [
            "Downloading data from https://www.cs.toronto.edu/~kriz/cifar-10-python.tar.gz\n",
            "170500096/170498071 [==============================] - 2s 0us/step\n"
          ],
          "name": "stdout"
        }
      ]
    },
    {
      "cell_type": "code",
      "metadata": {
        "id": "RVrxg2rO_ZNo",
        "colab_type": "code",
        "colab": {}
      },
      "source": [
        "NUM_CLASS=10\n",
        "\n",
        "x_train=x_train.astype('float32')/255.0\n",
        "x_test = x_test.astype('float32')/255.0\n"
      ],
      "execution_count": 0,
      "outputs": []
    },
    {
      "cell_type": "markdown",
      "metadata": {
        "id": "AW7mOoQJAHqT",
        "colab_type": "text"
      },
      "source": [
        "픽셀 값은 0부터 255 사이의 값을 가진다. 신경망 훈련을 위해 0과 1 사이의 실수로 표현해주었다."
      ]
    },
    {
      "cell_type": "code",
      "metadata": {
        "id": "OlNsl9DpAfLl",
        "colab_type": "code",
        "colab": {}
      },
      "source": [
        "y_train = to_categorical(y_train,NUM_CLASS)\n",
        "y_test= to_categorical(y_test,NUM_CLASS)"
      ],
      "execution_count": 0,
      "outputs": []
    },
    {
      "cell_type": "code",
      "metadata": {
        "id": "vVf69_2HCLS3",
        "colab_type": "code",
        "outputId": "04c6d866-0046-4759-c8d3-6afd0aec489a",
        "colab": {
          "base_uri": "https://localhost:8080/",
          "height": 35
        }
      },
      "source": [
        "x_train[54,1,13,1]"
      ],
      "execution_count": 5,
      "outputs": [
        {
          "output_type": "execute_result",
          "data": {
            "text/plain": [
              "0.32941177"
            ]
          },
          "metadata": {
            "tags": []
          },
          "execution_count": 5
        }
      ]
    },
    {
      "cell_type": "markdown",
      "metadata": {
        "id": "zJGS0QH_2ncH",
        "colab_type": "text"
      },
      "source": [
        "함수 이해 완료!\n",
        "x_train과 x_test는 신경망훈련을 위해 값 조정한다\n",
        "y_train은 왜 binary class matrix로 변환하는걸까... 어따 쓰려고?\n",
        "\n",
        "그거 말고는 데이터 적재 이해완료!"
      ]
    },
    {
      "cell_type": "markdown",
      "metadata": {
        "id": "TOOxxf102NuX",
        "colab_type": "text"
      },
      "source": [
        "#**2.3.2 모델 만들기**"
      ]
    },
    {
      "cell_type": "code",
      "metadata": {
        "id": "56UngzyA3bOR",
        "colab_type": "code",
        "colab": {}
      },
      "source": [
        "#!pip show tensorflow"
      ],
      "execution_count": 0,
      "outputs": []
    },
    {
      "cell_type": "code",
      "metadata": {
        "id": "CHN4vFnU2MAw",
        "colab_type": "code",
        "colab": {}
      },
      "source": [
        "#함수형API를 사용한 네트워크\n",
        "from keras.layers import Input,Flatten,Dense\n",
        "from keras.models import Model"
      ],
      "execution_count": 0,
      "outputs": []
    },
    {
      "cell_type": "code",
      "metadata": {
        "id": "2DG46Wbb4jFW",
        "colab_type": "code",
        "outputId": "260f8cf9-9295-459a-8211-b947aa2720ae",
        "colab": {
          "base_uri": "https://localhost:8080/",
          "height": 89
        }
      },
      "source": [
        "input_layer = Input(shape=(32,32,3))"
      ],
      "execution_count": 8,
      "outputs": [
        {
          "output_type": "stream",
          "text": [
            "WARNING:tensorflow:From /usr/local/lib/python3.6/dist-packages/keras/backend/tensorflow_backend.py:66: The name tf.get_default_graph is deprecated. Please use tf.compat.v1.get_default_graph instead.\n",
            "\n",
            "WARNING:tensorflow:From /usr/local/lib/python3.6/dist-packages/keras/backend/tensorflow_backend.py:541: The name tf.placeholder is deprecated. Please use tf.compat.v1.placeholder instead.\n",
            "\n"
          ],
          "name": "stdout"
        }
      ]
    },
    {
      "cell_type": "code",
      "metadata": {
        "id": "z3RgMoTb7VZe",
        "colab_type": "code",
        "colab": {}
      },
      "source": [
        "x = Flatten()(input_layer)"
      ],
      "execution_count": 0,
      "outputs": []
    },
    {
      "cell_type": "code",
      "metadata": {
        "id": "bvYg3FqQ7yoF",
        "colab_type": "code",
        "outputId": "a9bc47d4-37ac-4e6f-afd1-ac410ac890a9",
        "colab": {
          "base_uri": "https://localhost:8080/",
          "height": 53
        }
      },
      "source": [
        "x = Dense(units=200,activation='relu')(x)\n",
        "x = Dense(units=150, activation='relu')(x)"
      ],
      "execution_count": 10,
      "outputs": [
        {
          "output_type": "stream",
          "text": [
            "WARNING:tensorflow:From /usr/local/lib/python3.6/dist-packages/keras/backend/tensorflow_backend.py:4432: The name tf.random_uniform is deprecated. Please use tf.random.uniform instead.\n",
            "\n"
          ],
          "name": "stdout"
        }
      ]
    },
    {
      "cell_type": "code",
      "metadata": {
        "id": "PS_xVewK_x55",
        "colab_type": "code",
        "outputId": "d34ff1a8-1197-427e-cf76-dbd71a68c9f1",
        "colab": {
          "base_uri": "https://localhost:8080/",
          "height": 35
        }
      },
      "source": [
        "print(x)"
      ],
      "execution_count": 11,
      "outputs": [
        {
          "output_type": "stream",
          "text": [
            "Tensor(\"dense_2/Relu:0\", shape=(?, 150), dtype=float32)\n"
          ],
          "name": "stdout"
        }
      ]
    },
    {
      "cell_type": "code",
      "metadata": {
        "id": "zeRnWR5G_5sk",
        "colab_type": "code",
        "colab": {}
      },
      "source": [
        "output_layer= Dense(units=10, activation='softmax')(x)\n",
        "\n",
        "model = Model(input_layer, output_layer)"
      ],
      "execution_count": 0,
      "outputs": []
    },
    {
      "cell_type": "code",
      "metadata": {
        "colab_type": "code",
        "outputId": "3c940e8b-a69c-4ac8-f830-546b35fc1de3",
        "id": "syuVwKdZA6Ma",
        "colab": {
          "base_uri": "https://localhost:8080/",
          "height": 35
        }
      },
      "source": [
        "output_layer"
      ],
      "execution_count": 13,
      "outputs": [
        {
          "output_type": "execute_result",
          "data": {
            "text/plain": [
              "<tf.Tensor 'dense_3/Softmax:0' shape=(?, 10) dtype=float32>"
            ]
          },
          "metadata": {
            "tags": []
          },
          "execution_count": 13
        }
      ]
    },
    {
      "cell_type": "markdown",
      "metadata": {
        "id": "mmG-UQfNBDE7",
        "colab_type": "text"
      },
      "source": [
        "dense_4 >> dense_7"
      ]
    },
    {
      "cell_type": "code",
      "metadata": {
        "id": "8iZQunqqAqQD",
        "colab_type": "code",
        "outputId": "05961f65-f1b4-4175-b872-5df011f6468c",
        "colab": {
          "base_uri": "https://localhost:8080/",
          "height": 341
        }
      },
      "source": [
        "model.summary()"
      ],
      "execution_count": 14,
      "outputs": [
        {
          "output_type": "stream",
          "text": [
            "Model: \"model_1\"\n",
            "_________________________________________________________________\n",
            "Layer (type)                 Output Shape              Param #   \n",
            "=================================================================\n",
            "input_1 (InputLayer)         (None, 32, 32, 3)         0         \n",
            "_________________________________________________________________\n",
            "flatten_1 (Flatten)          (None, 3072)              0         \n",
            "_________________________________________________________________\n",
            "dense_1 (Dense)              (None, 200)               614600    \n",
            "_________________________________________________________________\n",
            "dense_2 (Dense)              (None, 150)               30150     \n",
            "_________________________________________________________________\n",
            "dense_3 (Dense)              (None, 10)                1510      \n",
            "=================================================================\n",
            "Total params: 646,260\n",
            "Trainable params: 646,260\n",
            "Non-trainable params: 0\n",
            "_________________________________________________________________\n"
          ],
          "name": "stdout"
        }
      ]
    },
    {
      "cell_type": "markdown",
      "metadata": {
        "id": "-8uRKD2PF0mD",
        "colab_type": "text"
      },
      "source": [
        "#**2.3.3 모델컴파일**\n",
        "  모델에 손실함수와 옵티마이저를 연결한다."
      ]
    },
    {
      "cell_type": "code",
      "metadata": {
        "id": "FvLv5wLAFB3h",
        "colab_type": "code",
        "colab": {}
      },
      "source": [
        "from keras.optimizers import Adam"
      ],
      "execution_count": 0,
      "outputs": []
    },
    {
      "cell_type": "code",
      "metadata": {
        "id": "-n8QVXZnGLCI",
        "colab_type": "code",
        "outputId": "d3660426-5e27-42ce-a026-f1df185c5ed7",
        "colab": {
          "base_uri": "https://localhost:8080/",
          "height": 280
        }
      },
      "source": [
        "opt = Adam(lr=0.0005)\n",
        "model.compile(loss='categorical_crossentropy',optimizer=opt,metrics=['accuracy'])\n",
        "model.compile()"
      ],
      "execution_count": 16,
      "outputs": [
        {
          "output_type": "stream",
          "text": [
            "WARNING:tensorflow:From /usr/local/lib/python3.6/dist-packages/keras/optimizers.py:793: The name tf.train.Optimizer is deprecated. Please use tf.compat.v1.train.Optimizer instead.\n",
            "\n",
            "WARNING:tensorflow:From /usr/local/lib/python3.6/dist-packages/keras/backend/tensorflow_backend.py:3576: The name tf.log is deprecated. Please use tf.math.log instead.\n",
            "\n"
          ],
          "name": "stdout"
        },
        {
          "output_type": "error",
          "ename": "TypeError",
          "evalue": "ignored",
          "traceback": [
            "\u001b[0;31m---------------------------------------------------------------------------\u001b[0m",
            "\u001b[0;31mTypeError\u001b[0m                                 Traceback (most recent call last)",
            "\u001b[0;32m<ipython-input-16-f361a57c87bb>\u001b[0m in \u001b[0;36m<module>\u001b[0;34m()\u001b[0m\n\u001b[1;32m      1\u001b[0m \u001b[0mopt\u001b[0m \u001b[0;34m=\u001b[0m \u001b[0mAdam\u001b[0m\u001b[0;34m(\u001b[0m\u001b[0mlr\u001b[0m\u001b[0;34m=\u001b[0m\u001b[0;36m0.0005\u001b[0m\u001b[0;34m)\u001b[0m\u001b[0;34m\u001b[0m\u001b[0;34m\u001b[0m\u001b[0m\n\u001b[1;32m      2\u001b[0m \u001b[0mmodel\u001b[0m\u001b[0;34m.\u001b[0m\u001b[0mcompile\u001b[0m\u001b[0;34m(\u001b[0m\u001b[0mloss\u001b[0m\u001b[0;34m=\u001b[0m\u001b[0;34m'categorical_crossentropy'\u001b[0m\u001b[0;34m,\u001b[0m\u001b[0moptimizer\u001b[0m\u001b[0;34m=\u001b[0m\u001b[0mopt\u001b[0m\u001b[0;34m,\u001b[0m\u001b[0mmetrics\u001b[0m\u001b[0;34m=\u001b[0m\u001b[0;34m[\u001b[0m\u001b[0;34m'accuracy'\u001b[0m\u001b[0;34m]\u001b[0m\u001b[0;34m)\u001b[0m\u001b[0;34m\u001b[0m\u001b[0;34m\u001b[0m\u001b[0m\n\u001b[0;32m----> 3\u001b[0;31m \u001b[0mmodel\u001b[0m\u001b[0;34m.\u001b[0m\u001b[0mcompile\u001b[0m\u001b[0;34m(\u001b[0m\u001b[0;34m)\u001b[0m\u001b[0;34m\u001b[0m\u001b[0;34m\u001b[0m\u001b[0m\n\u001b[0m",
            "\u001b[0;31mTypeError\u001b[0m: compile() missing 1 required positional argument: 'optimizer'"
          ]
        }
      ]
    },
    {
      "cell_type": "markdown",
      "metadata": {
        "id": "WKEqX-mJ-ewC",
        "colab_type": "text"
      },
      "source": [
        "#**2.3.4 모델 훈련**\n",
        "아직 모델에게 어떠한 데이터도 전달하지 않았다. 네트워크의 구조를 정의하고 모델에 손실함수와 옵티마이저를 연결했다.\n",
        "\n",
        "모델을 훈련하려면 다음처럼 fit 메서드를 호출한다."
      ]
    },
    {
      "cell_type": "code",
      "metadata": {
        "id": "ZfaKALbF-Bzp",
        "colab_type": "code",
        "colab": {}
      },
      "source": [
        "model.fit(x_train,\n",
        "          y_train\n",
        "          , batch_size=32\n",
        "          ,epochs=10\n",
        "          , shuffle=True\n",
        "          )"
      ],
      "execution_count": 0,
      "outputs": []
    },
    {
      "cell_type": "markdown",
      "metadata": {
        "id": "B-AE40hBhfA2",
        "colab_type": "text"
      },
      "source": [
        "#**2.3.5 모델 평가**"
      ]
    },
    {
      "cell_type": "code",
      "metadata": {
        "id": "JTZI97s1S_7Z",
        "colab_type": "code",
        "colab": {}
      },
      "source": [
        "model.evaluate(x_test,y_test)"
      ],
      "execution_count": 0,
      "outputs": []
    },
    {
      "cell_type": "code",
      "metadata": {
        "id": "grbJnypQho3t",
        "colab_type": "code",
        "colab": {}
      },
      "source": [
        "CLASSES = np.array(['airplane','automobile','bird', 'cat', 'deer','dog', 'frog', 'horse', 'ship', 'truck'])\n",
        "\n",
        "preds = model.predict(x_test)\n",
        "preds_single = CLASSES[np.argmax(preds, axis= -1)]\n",
        "actual_single = CLASSES[np.argmax(y_test, axis = -1)]"
      ],
      "execution_count": 0,
      "outputs": []
    },
    {
      "cell_type": "code",
      "metadata": {
        "id": "esznaffyilq0",
        "colab_type": "code",
        "colab": {}
      },
      "source": [
        "#print(preds[8])"
      ],
      "execution_count": 0,
      "outputs": []
    },
    {
      "cell_type": "markdown",
      "metadata": {
        "id": "KV0m2IL-jJ26",
        "colab_type": "text"
      },
      "source": [
        "샘플마다 10개의 클래스 확률을 담은 벡터가 preds에 반환됨."
      ]
    },
    {
      "cell_type": "code",
      "metadata": {
        "id": "CgacwlKdi--E",
        "colab_type": "code",
        "colab": {}
      },
      "source": [
        "np.argmax(preds[8], axis=-1)"
      ],
      "execution_count": 0,
      "outputs": []
    },
    {
      "cell_type": "markdown",
      "metadata": {
        "id": "65BVtY5Aj9bu",
        "colab_type": "text"
      },
      "source": [
        "각 샘플에서 최대 값을 반환하는데, 곱하기 10한 상태...\n",
        "0.383483 -> 4"
      ]
    },
    {
      "cell_type": "code",
      "metadata": {
        "id": "M6OJ6rzCl_TY",
        "colab_type": "code",
        "colab": {}
      },
      "source": [
        "import matplotlib.pyplot as plt\n",
        "\n",
        "n_to_show = 10\n",
        "indices = np.random.choice(range(len(x_test)), n_to_show)\n",
        "\n",
        "fig = plt.figure(figsize=(15, 3))\n",
        "fig.subplots_adjust(hspace=0.4, wspace=0.4)\n",
        "\n",
        "for i, idx in enumerate(indices):\n",
        "    img = x_test[idx]\n",
        "    ax = fig.add_subplot(1, n_to_show, i+1)\n",
        "    ax.axis('off')\n",
        "    ax.text(0.5, -0.35, 'pred = ' + str(preds_single[idx]), fontsize=10, ha='center', transform=ax.transAxes) \n",
        "    ax.text(0.5, -0.7, 'act = ' + str(actual_single[idx]), fontsize=10, ha='center', transform=ax.transAxes)\n",
        "    ax.imshow(img)"
      ],
      "execution_count": 0,
      "outputs": []
    },
    {
      "cell_type": "markdown",
      "metadata": {
        "id": "HXIhLn1tnW6L",
        "colab_type": "text"
      },
      "source": [
        "#**2.4 모델 성능 향상**\n",
        "##**2.4.1 합성곱 층**"
      ]
    },
    {
      "cell_type": "code",
      "metadata": {
        "id": "CMc7Zkwcm88v",
        "colab_type": "code",
        "colab": {}
      },
      "source": [
        ""
      ],
      "execution_count": 0,
      "outputs": []
    }
  ]
}